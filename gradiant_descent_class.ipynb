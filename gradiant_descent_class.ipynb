{
  "nbformat": 4,
  "nbformat_minor": 0,
  "metadata": {
    "colab": {
      "provenance": [],
      "authorship_tag": "ABX9TyPNWxq1aGzgC9mORlETiuB/",
      "include_colab_link": true
    },
    "kernelspec": {
      "name": "python3",
      "display_name": "Python 3"
    },
    "language_info": {
      "name": "python"
    }
  },
  "cells": [
    {
      "cell_type": "markdown",
      "metadata": {
        "id": "view-in-github",
        "colab_type": "text"
      },
      "source": [
        "<a href=\"https://colab.research.google.com/github/suryapratapkhuntia/Machine-Learning-End_to_end_project/blob/main/gradiant_descent_class.ipynb\" target=\"_parent\"><img src=\"https://colab.research.google.com/assets/colab-badge.svg\" alt=\"Open In Colab\"/></a>"
      ]
    },
    {
      "cell_type": "code",
      "execution_count": 33,
      "metadata": {
        "id": "tzTGOS2qnGAY"
      },
      "outputs": [],
      "source": [
        "from sklearn.datasets import make_regression\n",
        "import numpy as np\n",
        "import matplotlib.pyplot as plt\n"
      ]
    },
    {
      "cell_type": "code",
      "source": [
        "x,y=make_regression(n_samples=100,n_features=1,n_targets=1,noise=20)"
      ],
      "metadata": {
        "id": "AgAj9s1InYlH"
      },
      "execution_count": 34,
      "outputs": []
    },
    {
      "cell_type": "code",
      "source": [
        "plt.scatter(x,y)"
      ],
      "metadata": {
        "colab": {
          "base_uri": "https://localhost:8080/",
          "height": 447
        },
        "id": "7LraIdx6nlaq",
        "outputId": "b03a49b5-5efa-47ed-d266-f42ce1ddd832"
      },
      "execution_count": 35,
      "outputs": [
        {
          "output_type": "execute_result",
          "data": {
            "text/plain": [
              "<matplotlib.collections.PathCollection at 0x7f060fa3be00>"
            ]
          },
          "metadata": {},
          "execution_count": 35
        },
        {
          "output_type": "display_data",
          "data": {
            "text/plain": [
              "<Figure size 640x480 with 1 Axes>"
            ],
            "image/png": "[encoded data removed]"
          },
          "metadata": {}
        }
      ]
    },
    {
      "cell_type": "code",
      "source": [
        "from sklearn.model_selection import train_test_split\n",
        "x_train,x_test,y_train,y_test=train_test_split(x,y,test_size=0.2)"
      ],
      "metadata": {
        "id": "Pv_SRr4DoPDd"
      },
      "execution_count": 36,
      "outputs": []
    },
    {
      "cell_type": "code",
      "source": [
        "from sklearn.linear_model import LinearRegression"
      ],
      "metadata": {
        "id": "SGI4ZlFknsRb"
      },
      "execution_count": 37,
      "outputs": []
    },
    {
      "cell_type": "code",
      "source": [
        "lr=LinearRegression()"
      ],
      "metadata": {
        "id": "scitFwfAoARl"
      },
      "execution_count": 38,
      "outputs": []
    },
    {
      "cell_type": "code",
      "source": [
        "lr.fit(x_train,y_train)\n",
        "print(lr.coef_)\n",
        "print(lr.intercept_)"
      ],
      "metadata": {
        "colab": {
          "base_uri": "https://localhost:8080/"
        },
        "id": "SKWF1JUxoEr3",
        "outputId": "67eebea4-0835-4fd3-8b9f-5e320bb2e4aa"
      },
      "execution_count": 39,
      "outputs": [
        {
          "output_type": "stream",
          "name": "stdout",
          "text": [
            "[5.40329493]\n",
            "-1.4500081263322322\n"
          ]
        }
      ]
    },
    {
      "cell_type": "code",
      "source": [
        "y_pred = lr.predict(x_test)\n",
        "from sklearn.metrics import r2_score\n",
        "r2_score(y_test,y_pred)"
      ],
      "metadata": {
        "colab": {
          "base_uri": "https://localhost:8080/"
        },
        "id": "ObqFSufuyoAp",
        "outputId": "cfec3bf7-3d70-4922-f541-e3f6cfb022a1"
      },
      "execution_count": 40,
      "outputs": [
        {
          "output_type": "execute_result",
          "data": {
            "text/plain": [
              "0.08761561966710074"
            ]
          },
          "metadata": {},
          "execution_count": 40
        }
      ]
    },
    {
      "cell_type": "code",
      "source": [
        "class GDregressor:\n",
        "  def __init__(self,learning_rate,epochs):\n",
        "    self.m=100\n",
        "    self.b=-120\n",
        "    self.learning_rate=learning_rate\n",
        "    self.epochs=epochs\n",
        "\n",
        "  def fit(self,x_train,y_train):\n",
        "    # Batch Gradient Descent\n",
        "    for i in range(self.epochs):\n",
        "      loss_slope_b= -2 * np.sum(y_train - (self.m * x_train.flatten() + self.b))\n",
        "      loss_slope_m= -2 * np.sum((y_train - (self.m * x_train.flatten() + self.b)) * x_train.flatten())\n",
        "\n",
        "      self.b = self.b - (self.learning_rate * loss_slope_b)\n",
        "      self.m = self.m - (self.learning_rate * loss_slope_m)\n",
        "\n",
        "\n",
        "    print(self.m,self.b)\n",
        "\n",
        "  def predict(self,x_test):\n",
        "    return self.m * x_test + self.b\n",
        "#"
      ],
      "metadata": {
        "id": "j_uf5lsXzViC"
      },
      "execution_count": 46,
      "outputs": []
    },
    {
      "cell_type": "code",
      "source": [
        "gd= GDregressor(0.001,50)"
      ],
      "metadata": {
        "id": "eZsstMvU07UK"
      },
      "execution_count": 47,
      "outputs": []
    },
    {
      "cell_type": "code",
      "source": [
        "gd.fit(x_train,y_train)"
      ],
      "metadata": {
        "colab": {
          "base_uri": "https://localhost:8080/"
        },
        "id": "AcwV-nza1CzI",
        "outputId": "7cc29135-c7ec-49cd-abea-b26757fa794a"
      },
      "execution_count": 48,
      "outputs": [
        {
          "output_type": "stream",
          "name": "stdout",
          "text": [
            "5.351552359328644 -1.5113435520539025\n"
          ]
        }
      ]
    },
    {
      "cell_type": "code",
      "source": [
        "y_pred=gd.predict(x_test)\n",
        "from sklearn.metrics import r2_score\n",
        "r2_score(y_test,y_pred)"
      ],
      "metadata": {
        "colab": {
          "base_uri": "https://localhost:8080/"
        },
        "id": "lDXj0WOX1f3e",
        "outputId": "e3c26c46-58de-4c1e-9a5d-e86cf877b617"
      },
      "execution_count": 49,
      "outputs": [
        {
          "output_type": "execute_result",
          "data": {
            "text/plain": [
              "0.08823307607031028"
            ]
          },
          "metadata": {},
          "execution_count": 49
        }
      ]
    }
  ]
}